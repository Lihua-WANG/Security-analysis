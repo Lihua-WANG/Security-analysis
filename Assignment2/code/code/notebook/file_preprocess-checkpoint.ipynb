{
 "cells": [
  {
   "cell_type": "code",
   "execution_count": 1,
   "metadata": {},
   "outputs": [],
   "source": [
    "import pandas as pd\n",
    "import os \n"
   ]
  },
  {
   "cell_type": "code",
   "execution_count": 2,
   "metadata": {},
   "outputs": [],
   "source": [
    "file_path_train = r\"data\\A2_1\\training_data\"\n",
    "file_path_test = r\"data\\A2_1\\test_data\"\n",
    "file_path_validLabel = r\"data\\A2_1_valid_data_with_labels\\valid_data_with_labels\"\n",
    "\n",
    "\n",
    "read_cols=[1,2,3,5,8,11,12,13]\n",
    "org_name=[\"timestamp\",\"duration\",\"protocol\",\"sourceIP\",\"sourcePort\",\"direction\"\n",
    "                   ,\"destinationIP\",\"destinationPort\",\"state\",\"STS\",\"DTS\",\"totalPackage\",\n",
    "                   \"totalBytes_Bidirection\",\"totalBytes_single_direction\"]\n",
    "cols_name=[org_name[i] for i in read_cols]\n",
    "datas_train = pd.read_csv(file_path_train,header=None,names=cols_name,usecols=read_cols)\n",
    "datas_test = pd.read_csv(file_path_test,header=None,names=cols_name,usecols=read_cols)\n",
    "datas_val = pd.read_csv(file_path_validLabel,header=None,names=cols_name,usecols=read_cols)\n",
    "datas_val_label = pd.read_csv(file_path_validLabel,header=None,names=[\"label\"],usecols=[14])\n"
   ]
  },
  {
   "cell_type": "code",
   "execution_count": 3,
   "metadata": {},
   "outputs": [
    {
     "name": "stdout",
     "output_type": "stream",
     "text": [
      "    duration protocol       sourceIP direction      state  totalPackage  \\\n",
      "0  67.205656      tcp  181.74.92.157        ->  FSPA_FSPA            11   \n",
      "1   0.000000      tcp  181.74.92.157        ->         S_             3   \n",
      "2   0.000000      tcp  181.74.92.157        ->         S_             2   \n",
      "3   0.000000      tcp  181.74.92.157        ->         S_             2   \n",
      "4   0.000000      tcp  181.74.92.157        ->         S_             1   \n",
      "\n",
      "   totalBytes_Bidirection  totalBytes_single_direction  \n",
      "0                    1216                          480  \n",
      "1                      59                           58  \n",
      "2                      61                           61  \n",
      "3                      64                           58  \n",
      "4                      58                           61  \n"
     ]
    }
   ],
   "source": [
    "print(datas_train.head())"
   ]
  },
  {
   "cell_type": "code",
   "execution_count": 4,
   "metadata": {},
   "outputs": [
    {
     "name": "stdout",
     "output_type": "stream",
     "text": [
      "['->' '<->' '<?>' '?>' '<-' 'who' '<?']\n",
      "['->' '<->' '<?>' '?>' '<-']\n"
     ]
    }
   ],
   "source": [
    "# 清楚空格的数值\n",
    "def func(x):\n",
    "    if pd.isna(x):\n",
    "        return \"other\"\n",
    "    elif type(x) is str:\n",
    "        return \"\".join(x.split())\n",
    "    else:\n",
    "        return x\n",
    "datas_train=datas_train.applymap((lambda x:func(x)))\n",
    "datas_test=datas_test.applymap((lambda x:func(x)))\n",
    "datas_val=datas_val.applymap((lambda x:func(x)))\n",
    "datas_val_label=datas_val_label.applymap(lambda x: 1 if x.find(\"flow=From-Botnet\")>=0 else 0)\n",
    "print(datas_train[\"direction\"].unique())\n",
    "print(datas_val[\"direction\"].unique())"
   ]
  },
  {
   "cell_type": "code",
   "execution_count": 5,
   "metadata": {},
   "outputs": [
    {
     "name": "stdout",
     "output_type": "stream",
     "text": [
      "['udp', 'tcp', 'icmp', 'igmp', 'arp', 'rtp', 'rtcp', 'pim', 'ipv6-icmp', 'ipv6', 'esp', 'udt', 'rsvp', 'gre'] [9431258 3639106  754701   37185    9011    7317    3090     134     107\n",
      "      86      21      16       2       1]\n",
      "['<->', '->', '<-', '<?>', '?>', 'who', '<?'] [9055197 4605238  146606   40204   25762    9011      17]\n",
      "['CON', 'FSPA_FSPA', 'S_', 'INT', 'S_RA', 'UNK', 'SRPA_FSPA', 'FSA_FSA', 'SRPA_SPA', 'RED', 'FSRPA_FSPA', 'SA_', 'URP', 'ECR', 'FSPA_FSRPA', 'ECO', '_FSPA', 'PA_PA', 'SA_R', 'SPA_SRPA', 'ROB', 'FSPA_SRPA', 'SRPA_FSRPA', 'FSRPA_SPA', 'SPA_SPA', 'SPA_FSPA', 'S_SA', 'RA_', 'FSPA_FSA', 'FSRPA_SRPA', 'FSA_FSPA', 'SR_SA', 'REQ', 'TXD', 'SPA_FSRPA', 'FSA_SRA', '_FSA', 'other', 'A_', 'FPA_FPA', 'SA_SRA', 'FSRA_FSPA', 'FRA_', '_SPA', 'SRA_SA', 'FA_FA', 'URH', 'URHPRO', 'URN', 'FSPA_FSRA', 'FSPA_SPA', 'FSRPA_SA', 'SRA_FSPA', 'SRPA_SA', 'SPA_SRA', 'FSA_FSRA', 'SR_', 'FSPA_SRA', 'SA_RA', 'MRQ', 'IAH', 'WAY', 'DCE', 'RSP', 'SKP', 'NNA', 'SRC', 'NNS', 'SEC', 'NRA', 'MRP', 'PHO', 'AHA', 'PAR', 'FSRPA_FSRPA', 'PTB', 'SRA_FSA', 'TRC', 'DNP', 'R_', 'MHR', 'NRS', 'UR', 'DNQ', 'FA_', 'SRPA_FSA', '_SRA', 'PA_', 'URFIL', 'SA_FSA', 'FSRA_FSA', 'PA_A', 'FPA_FA', 'FA_R', 'SA_SA', 'SRA_SPA', 'SPA_SA', 'SPA_FSRA', 'FPA_', 'A_A', 'RPA_PA', 'PA_RPA', 'FSPA_SA', 'A_R', 'FRPA_FPA', 'FPA_FRPA', 'A_PA', '_SA', 'FSRPA_FSA', 'FSRA_SPA', 'FPA_R', 'SRPA_SRPA', 'FA_A', 'PA_FPA', 'SA_RPA', 'URO', 'SA_FSRA', 'PA_SA', 'FSRA_SA', 'RPA_FPA', 'FPA_PA', 'FSA_SA', 'FA_FRA', 'FA_FPA', 'S_SRA', 'FPA_FSPA', 'SA_FSPA', 'S_FRA', 'RA_FA', 'PA_R', 'FPA_RPA', 'A_RA', 'S_R', 'PA_SPA', 'SR_A', 'SRPA_SRA', 'S_RPA', 'RPA_FRPA', 'S_SPA', 'RA_FPA', 'FRA_FA', 'PA_FRPA', 'IRQ', 'FSPAC_FSPA', 'FS_', 'S_A', 'FRA_FPA', 'PA_RA', 'TST', 'FSA_FPA', 'MAS', 'RTA', 'RTS', 'FSPA_FPA', 'SPA_PA', 'FRPA_PA', 'FA_RA', 'FPA_A', 'SRA_', 'A_SA', 'SA_SPA', 'FSRPAC_FSPA', 'SPA_FSA', 'FRPA_FRPA', 'FA_FSA', 'SRA_R', 'SEC_', 'A_FA', 'PA_FA', 'RPA_FSPA', 'FPA_RA', 'PA_FSPA', 'RPA_A', 'FSRPA_SRA', 'SA_PA', 'FSA_FA', 'PA_PAC', 'FSRPA_FSRA', 'FRPA_RPA', 'FSPAEC_FSPA', 'FSPA_FSPAC', 'SRA_SRA', 'SPA_A', 'SRPA_FPA', 'FSA_', 'SEC_RA', 'SPAC_SPA', 'FPA_SPA', 'FPA_FSA', 'SPA_FPA', 'SA_A', '_SRPA', 'FSR_SA', 'RA_PA', 'SPA_', 'SA_FR', 'S_RAC', 'RPA_SPA', '_PA', 'SA_FA', 'RPA_', 'A_FPA', 'RA_A', 'SRPA_FSRA', '_RA', 'PA_FSA', 'SRA_FPA', 'FSA_PA', 'FSPAC_FSRA', 'FRPA_', 'FRPA_FA', 'FPA_FRA', 'FSPA_PA', 'FRA_PA', 'FSRA_SRA', 'A_FRA', 'A_SPA', '_FPA', 'FSA_A', 'SPA_RPA', 'FS_SA', 'SA_FPA', 'SR_FSA', 'S_PA', 'FSRA_FSRPA', 'RPA_FSRPA', 'FPA_SA', 'FSRA_FSRA', 'FA_FSPA', 'FA_SA', 'SRPA_FSPAC', 'RPA_RPA', 'FA_PA', 'PA_SRA', 'FRA_A', 'URNU', 'FSPAC_FSRPA', 'FPA_FSRPA', 'PA_SRPA', 'PA_FRA', 'SRPA_PA', 'FSPA_FA', 'RPA_FA', 'S_FA', 'RPA_SA', 'SRPA_FRPA', 'A_RPA', 'A_SRA', '_R', 'FSRPA_FPA', 'URNPRO', 'FSPA_FRPA', 'SRPA_SPAC', 'PAC_PA', 'URISO', 'URHU', 'FRA_FRPA', 'RA_SA', 'SPA_FA', 'FSPA_', 'FRPA_FSPA', 'RPA_R', 'SRA_PA', 'SREC_SA', 'FSRPA_FSPAC', 'FRPA_A', 'SR_SRA', 'SPAC_SRPA', 'RPA_RA', 'A_FSA', 'SA_SRPA', 'FSA_SPA', 'URHTOS', 'SPA_RA', '_', 'S_FSPA', 'FSRPAC_SPA', 'FSA_FRA', 'FRA_R', 'SPAC_FSPA', 'FSAEC_FSPAE', '_FSRPA', 'S_FSA', 'SRPA_RPA', 'URCUT', 'SRA_FA', 'R_PA', 'SRE_SA', 'FRA_RPA', 'FSPA_A', 'RA_S', 'RA_RA', 'URS', 'FA_FRPA', 'SRPAC_FSPA', 'FPAC_FPA', 'FPA_FRPAC', 'PA_FSRPA', 'FRPA_SPA', 'RPA_FSA', 'URPRE', 'FSAU_FSA', 'S_FPA', '_FRPA', 'FPA_SRPA', 'FSPA_FSRPAC', 'FRPA_R', 'FRPA_FPAC', 'SEC_SA', 'FSRPAC_FSRPA', '_RPA', 'SA_FSRPA', 'R_FA', 'F_', 'PA_FSRA', '_A', 'SREC_SAE', 'FSRPA_FSRPAC', '_FA', 'FSRA_FPA', 'FSPA_RPA', 'A_FSPA', 'FRPA_FRA', 'FSPAC_FSA', 'FRA_RA', 'FA_SRA', 'R_FPA', 'FPA_FPAC', 'SRC_SA', 'SRPAC_SPA', 'SRA_A', 'SA_S', 'A_FSRPE', 'A_SRPA', 'PA_FPAC', 'FSRPAE_FSA', 'FRA_FRA', 'FPA_PAC', 'FSPAC_FSPAC', 'RA_FRA', 'FPA_SRA', 'A_RPE', 'FSPA_SRAC', 'RPA_PAC', 'FSPA_R', 'RPA_SRPA', 'SPA_R', 'FRA_FPAC', 'SR_FRA', 'FSA_R', 'A_AE', 'FSPAEC_FSPAE', 'FRPA_RA', 'FSRA_SRPA', 'FAU_', 'RA_SPA', 'FSPAC_FA', 'SPAC_FSRPA', 'SRA_RA', 'SPA_SRPAC', 'SRPA_', 'FSRPAEC_FSRPA', 'SRA_FSRA', 'SR_RA', 'FPAC_FRPA', 'FSA_FSRPA', 'SRA_RPA', 'A_FRPE', 'SA_FRA', 'FSPA_FRA', 'FSRA_FA', 'FPA_FSRA', 'SRPA_FSRPAC', 'FA_RPA'] [9042271 1711963  461696  436297  389002  378772  204717  178886   99811\n",
      "   98826   88986   86836   85622   62168   52357   49670   37441   27503\n",
      "   24113   21589   18332   18149   15768   14859   14438   12953   12191\n",
      "   11347   11152   10978    9685    8720    7686    7057    6810    6795\n",
      "    5825    5438    5203    4418    3952    3892    3810    3649    3272\n",
      "    3218    3166    3050    3034    2916    2882    2584    2581    2397\n",
      "    2295    2283    2263    2230    2161    1930    1902    1894    1891\n",
      "    1867    1852    1845    1834    1830    1825    1823    1803    1802\n",
      "    1802    1776    1776    1763    1757    1738    1701    1684    1673\n",
      "    1671    1665    1614    1571    1532    1463    1282    1164    1163\n",
      "    1097    1087     971     957     942     934     922     851     850\n",
      "     751     715     694     612     608     559     507     501     495\n",
      "     457     448     426     415     403     382     350     325     313\n",
      "     310     306     301     287     281     263     240     229     213\n",
      "     195     189     186     181     180     179     175     171     170\n",
      "     165     148     129     129     129     122     120     115     115\n",
      "     111     108     105     101      96      96      95      95      95\n",
      "      93      91      90      82      81      81      77      76      72\n",
      "      71      66      66      65      63      62      58      55      50\n",
      "      46      46      45      44      44      43      39      36      35\n",
      "      35      35      35      34      33      33      33      32      32\n",
      "      32      32      30      30      29      29      29      28      27\n",
      "      27      26      26      25      25      24      24      24      23\n",
      "      22      22      21      20      20      19      18      18      18\n",
      "      17      17      17      16      16      16      16      16      15\n",
      "      15      14      14      13      13      13      13      12      12\n",
      "      12      12      12      12      11      11      11      11      11\n",
      "      10      10      10      10       9       9       9       9       9\n",
      "       9       9       8       8       8       8       8       8       7\n",
      "       7       7       7       7       7       7       7       7       6\n",
      "       6       6       6       5       5       5       5       5       5\n",
      "       5       5       4       4       4       4       4       4       4\n",
      "       4       4       4       4       4       3       3       3       3\n",
      "       3       3       3       3       3       3       3       3       3\n",
      "       3       3       3       2       2       2       2       2       2\n",
      "       2       2       2       2       2       2       2       2       2\n",
      "       2       2       2       2       2       2       1       1       1\n",
      "       1       1       1       1       1       1       1       1       1\n",
      "       1       1       1       1       1       1       1       1       1\n",
      "       1       1       1       1       1       1       1       1       1\n",
      "       1       1       1       1       1       1       1       1       1\n",
      "       1       1       1       1       1]\n",
      "[['udp', 'tcp', 'icmp', 'igmp', 'arp', 'rtp', 'rtcp'], ['<->', '->', '<-', '<?>'], ['CON', 'FSPA_FSPA', 'S_', 'INT', 'S_RA', 'UNK', 'SRPA_FSPA', 'FSA_FSA', 'SRPA_SPA', 'RED', 'FSRPA_FSPA', 'SA_', 'URP', 'ECR', 'FSPA_FSRPA']]\n",
      "udp          9431258\n",
      "tcp          3639106\n",
      "icmp          754701\n",
      "igmp           37185\n",
      "arp             9011\n",
      "rtp             7317\n",
      "rtcp            3090\n",
      "pim              134\n",
      "ipv6-icmp        107\n",
      "ipv6              86\n",
      "esp               21\n",
      "udt               16\n",
      "rsvp               2\n",
      "gre                1\n",
      "Name: protocol, dtype: int64\n",
      "udp      9431258\n",
      "tcp      3639106\n",
      "icmp      754701\n",
      "igmp       37185\n",
      "arp         9011\n",
      "rtp         7317\n",
      "rtcp        3090\n",
      "other        367\n",
      "Name: protocol, dtype: int64\n",
      "<->    9055197\n",
      "->     4605238\n",
      "<-      146606\n",
      "<?>      40204\n",
      "?>       25762\n",
      "who       9011\n",
      "<?          17\n",
      "Name: direction, dtype: int64\n",
      "<->      9055197\n",
      "->       4605238\n",
      "<-        146606\n",
      "<?>        40204\n",
      "other      34790\n",
      "Name: direction, dtype: int64\n",
      "CON            9042271\n",
      "FSPA_FSPA      1711963\n",
      "S_              461696\n",
      "INT             436297\n",
      "S_RA            389002\n",
      "                ...   \n",
      "FSPA_FRA             1\n",
      "FSRA_FA              1\n",
      "FPA_FSRA             1\n",
      "SRPA_FSRPAC          1\n",
      "FA_RPA               1\n",
      "Name: state, Length: 374, dtype: int64\n"
     ]
    },
    {
     "name": "stdout",
     "output_type": "stream",
     "text": [
      "CON           9042271\n",
      "FSPA_FSPA     1711963\n",
      "other          503825\n",
      "S_             461696\n",
      "INT            436297\n",
      "S_RA           389002\n",
      "UNK            378772\n",
      "SRPA_FSPA      204717\n",
      "FSA_FSA        178886\n",
      "SRPA_SPA        99811\n",
      "RED             98826\n",
      "FSRPA_FSPA      88986\n",
      "SA_             86836\n",
      "URP             85622\n",
      "ECR             62168\n",
      "FSPA_FSRPA      52357\n",
      "Name: state, dtype: int64\n"
     ]
    }
   ],
   "source": [
    "# 统计计数,进行截取,删除不必要的标签\n",
    "cols_str=[\"protocol\",\"direction\",\"state\"]\n",
    "idx_delete=[7,4,15]\n",
    "str_type_replace=[]\n",
    "for idx in range(len(cols_str)):\n",
    "    str_list=[]\n",
    "    tmp = datas_train[cols_str[idx]].value_counts()\n",
    "    tmp_name=list(tmp.index)\n",
    "    print(tmp_name,tmp.values)\n",
    "    str_list=tmp_name[0:idx_delete[idx]]\n",
    "    str_type_replace.append(str_list)\n",
    "print(str_type_replace)\n",
    "for idx in range(len(cols_str)):\n",
    "    print(datas_train[cols_str[idx]].value_counts())\n",
    "    datas_train[cols_str[idx]]=datas_train[cols_str[idx]].apply(lambda x: x if x in str_type_replace[idx] else \"other\")\n",
    "    datas_val[cols_str[idx]]=datas_val[cols_str[idx]].apply(lambda x: x if x in str_type_replace[idx] else \"other\")\n",
    "    datas_test[cols_str[idx]]=datas_test[cols_str[idx]].apply(lambda x: x if x in str_type_replace[idx] else \"other\")\n",
    "    print(datas_train[cols_str[idx]].value_counts())"
   ]
  },
  {
   "cell_type": "code",
   "execution_count": 6,
   "metadata": {},
   "outputs": [
    {
     "name": "stdout",
     "output_type": "stream",
     "text": [
      "    duration protocol       sourceIP direction      state  totalPackage  \\\n",
      "0  67.205656      tcp  181.74.92.157        ->  FSPA_FSPA            11   \n",
      "1   0.000000      tcp  181.74.92.157        ->         S_             3   \n",
      "2   0.000000      tcp  181.74.92.157        ->         S_             2   \n",
      "3   0.000000      tcp  181.74.92.157        ->         S_             2   \n",
      "4   0.000000      tcp  181.74.92.157        ->         S_             1   \n",
      "\n",
      "   totalBytes_Bidirection  totalBytes_single_direction            pps  \\\n",
      "0                    1216                          480       0.163677   \n",
      "1                      59                           58  300000.000000   \n",
      "2                      61                           61  200000.000000   \n",
      "3                      64                           58  200000.000000   \n",
      "4                      58                           61  100000.000000   \n",
      "\n",
      "            bps         bpp  \n",
      "0  1.809371e+01  110.545455  \n",
      "1  5.900000e+06   19.666667  \n",
      "2  6.100000e+06   30.500000  \n",
      "3  6.400000e+06   32.000000  \n",
      "4  5.800000e+06   58.000000  \n"
     ]
    }
   ],
   "source": [
    "datas_train[\"pps\"] = datas_train[\"totalPackage\"] / (datas_train[\"duration\"]+0.00001)\n",
    "datas_train[\"bps\"] = datas_train[\"totalBytes_Bidirection\"] / (datas_train[\"duration\"]+0.00001)\n",
    "datas_train[\"bpp\"] = datas_train[\"totalBytes_Bidirection\"] / (datas_train[\"totalPackage\"])\n",
    "print(datas_train.head())\n",
    "\n",
    "datas_val[\"pps\"] = datas_val[\"totalPackage\"] / (datas_val[\"duration\"]+0.00001)\n",
    "datas_val[\"bps\"] = datas_val[\"totalBytes_Bidirection\"] / (datas_val[\"duration\"]+0.00001)\n",
    "datas_val[\"bpp\"] = datas_val[\"totalBytes_Bidirection\"] / (datas_val[\"totalPackage\"])\n",
    "\n",
    "datas_test[\"pps\"] = datas_train[\"totalPackage\"] / (datas_test[\"duration\"]+0.00001)\n",
    "datas_test[\"bps\"] = datas_train[\"totalBytes_Bidirection\"] / (datas_test[\"duration\"]+0.00001)\n",
    "datas_test[\"bpp\"] = datas_train[\"totalBytes_Bidirection\"] / (datas_test[\"totalPackage\"])\n"
   ]
  },
  {
   "cell_type": "code",
   "execution_count": 7,
   "metadata": {},
   "outputs": [],
   "source": [
    "# 重新保存数据\n",
    "datas_test.to_csv(r\"data\\A2_1\\1_test.csv\")\n",
    "datas_train.to_csv(r\"data\\A2_1\\1_train.csv\")\n",
    "datas_val.to_csv(r\"data\\A2_1\\1_val.csv\")\n",
    "datas_val_label.to_csv(r\"data\\A2_1\\1_valLabel.csv\")\n"
   ]
  }
 ],
 "metadata": {
  "kernelspec": {
   "display_name": "Python 3",
   "language": "python",
   "name": "python3"
  },
  "language_info": {
   "codemirror_mode": {
    "name": "ipython",
    "version": 3
   },
   "file_extension": ".py",
   "mimetype": "text/x-python",
   "name": "python",
   "nbconvert_exporter": "python",
   "pygments_lexer": "ipython3",
   "version": "3.8.3"
  }
 },
 "nbformat": 4,
 "nbformat_minor": 2
}
